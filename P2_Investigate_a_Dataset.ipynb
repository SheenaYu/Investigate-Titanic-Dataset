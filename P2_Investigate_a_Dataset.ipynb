{
 "cells": [
  {
   "cell_type": "markdown",
   "metadata": {},
   "source": [
    "#                             Project 2:    Investigate a Dataset  --Titanic Dataset  \n",
    "\n",
    "##### Sheena Yu"
   ]
  },
  {
   "cell_type": "markdown",
   "metadata": {},
   "source": [
    "# I. Background Information\n",
    "\n",
    "> The sinking of the RMS Titanic is one of the most infamous shipwrecks in history.  On April 15, 1912, during her maiden voyage, the Titanic sank after colliding with an iceberg, killing 1502 out of 2224 passengers and crew. This sensational tragedy shocked the international community and led to better safety regulations for ships.\n",
    "\n",
    "> One of the reasons that the shipwreck led to such loss of life was that there were not enough lifeboats for the passengers and crew. Although there was some element of luck involved in surviving the sinking, some groups of people were more likely to survive than others, such as women, children, and the upper-class."
   ]
  },
  {
   "cell_type": "markdown",
   "metadata": {},
   "source": [
    "# II. Research Questions\n",
    "\n",
    "**1. According to the age distribution of passengers in this dataset, which age groups have a higher survival rate?**\n",
    "\n",
    "**2. What is the relationship between family size (total number of siblings, spouse, parents, children) and the corresponding survival rate?**\n",
    "\n",
    "**3. Do groups of passengers share similar survival rates, if we divide the total passengers on board into groups based on sex and class?**"
   ]
  },
  {
   "cell_type": "markdown",
   "metadata": {},
   "source": [
    "# III. Data Wrangling"
   ]
  },
  {
   "cell_type": "markdown",
   "metadata": {},
   "source": [
    "### Data Overview"
   ]
  },
  {
   "cell_type": "markdown",
   "metadata": {},
   "source": [
    "VARIABLE DESCRIPTIONS:\n",
    "\n",
    "**survival: **        Survival (0 = No; 1 = Yes)      \n",
    "**pclass: **          Passenger Class (1 = 1st; 2 = 2nd; 3 = 3rd)                  \n",
    "**name: **            Name   \n",
    "**sex: **             Sex   \n",
    "**age: **             Age   \n",
    "**sibsp: **           Number of Siblings/Spouses Aboard   \n",
    "**parch: **           Number of Parents/Children Aboard   \n",
    "**ticket: **          Ticket Number   \n",
    "**fare: **            Passenger Fare   \n",
    "**cabin: **           Cabin   \n",
    "**embarked: **        Port of Embarkation (C = Cherbourg; Q = Queenstown; S = Southampton)   \n",
    "\n",
    "SPECIAL NOTES:\n",
    "\n",
    "Pclass is a proxy for socio-economic status (SES)\n",
    " 1st ~ Upper; 2nd ~ Middle; 3rd ~ Lower\n",
    "\n",
    "Age is in Years; Fractional if Age less than One (1)\n",
    " If the Age is Estimated, it is in the form xx.5\n",
    "\n",
    "With respect to the family relation variables (i.e. sibsp and parch)\n",
    "some relations were ignored.  The following are the definitions used\n",
    "for sibsp and parch.\n",
    "\n",
    "Sibling:  Brother, Sister, Stepbrother, or Stepsister of Passenger Aboard Titanic\n",
    "Spouse:   Husband or Wife of Passenger Aboard Titanic (Mistresses and Fiances Ignored)\n",
    "Parent:   Mother or Father of Passenger Aboard Titanic\n",
    "Child:    Son, Daughter, Stepson, or Stepdaughter of Passenger Aboard Titanic\n",
    "\n",
    "Other family relatives excluded from this study include cousins,\n",
    "nephews/nieces, aunts/uncles, and in-laws.  Some children travelled\n",
    "only with a nanny, therefore parch=0 for them.  As well, some\n",
    "travelled with very close friends or neighbors in a village, however,\n",
    "the definitions do not support such relations."
   ]
  },
  {
   "cell_type": "markdown",
   "metadata": {},
   "source": [
    "### Read Titantic dataset"
   ]
  },
  {
   "cell_type": "code",
   "execution_count": 316,
   "metadata": {
    "collapsed": false,
    "scrolled": true
   },
   "outputs": [
    {
     "name": "stdout",
     "output_type": "stream",
     "text": [
      "Once deleted, variables cannot be recovered. Proceed (y/[n])? y\n"
     ]
    }
   ],
   "source": [
    "%reset"
   ]
  },
  {
   "cell_type": "code",
   "execution_count": 318,
   "metadata": {
    "collapsed": true
   },
   "outputs": [],
   "source": [
    "# Import Python packages that are needed\n",
    "import numpy as np\n",
    "import pandas as pd\n",
    "import matplotlib.pyplot as plt"
   ]
  },
  {
   "cell_type": "code",
   "execution_count": 319,
   "metadata": {
    "collapsed": false
   },
   "outputs": [
    {
     "data": {
      "text/html": [
       "<div>\n",
       "<table border=\"1\" class=\"dataframe\">\n",
       "  <thead>\n",
       "    <tr style=\"text-align: right;\">\n",
       "      <th></th>\n",
       "      <th>PassengerId</th>\n",
       "      <th>Survived</th>\n",
       "      <th>Pclass</th>\n",
       "      <th>Name</th>\n",
       "      <th>Sex</th>\n",
       "      <th>Age</th>\n",
       "      <th>SibSp</th>\n",
       "      <th>Parch</th>\n",
       "      <th>Ticket</th>\n",
       "      <th>Fare</th>\n",
       "      <th>Cabin</th>\n",
       "      <th>Embarked</th>\n",
       "    </tr>\n",
       "  </thead>\n",
       "  <tbody>\n",
       "    <tr>\n",
       "      <th>0</th>\n",
       "      <td>1</td>\n",
       "      <td>0</td>\n",
       "      <td>3</td>\n",
       "      <td>Braund, Mr. Owen Harris</td>\n",
       "      <td>male</td>\n",
       "      <td>22.0</td>\n",
       "      <td>1</td>\n",
       "      <td>0</td>\n",
       "      <td>A/5 21171</td>\n",
       "      <td>7.2500</td>\n",
       "      <td>NaN</td>\n",
       "      <td>S</td>\n",
       "    </tr>\n",
       "    <tr>\n",
       "      <th>1</th>\n",
       "      <td>2</td>\n",
       "      <td>1</td>\n",
       "      <td>1</td>\n",
       "      <td>Cumings, Mrs. John Bradley (Florence Briggs Th...</td>\n",
       "      <td>female</td>\n",
       "      <td>38.0</td>\n",
       "      <td>1</td>\n",
       "      <td>0</td>\n",
       "      <td>PC 17599</td>\n",
       "      <td>71.2833</td>\n",
       "      <td>C85</td>\n",
       "      <td>C</td>\n",
       "    </tr>\n",
       "    <tr>\n",
       "      <th>2</th>\n",
       "      <td>3</td>\n",
       "      <td>1</td>\n",
       "      <td>3</td>\n",
       "      <td>Heikkinen, Miss. Laina</td>\n",
       "      <td>female</td>\n",
       "      <td>26.0</td>\n",
       "      <td>0</td>\n",
       "      <td>0</td>\n",
       "      <td>STON/O2. 3101282</td>\n",
       "      <td>7.9250</td>\n",
       "      <td>NaN</td>\n",
       "      <td>S</td>\n",
       "    </tr>\n",
       "    <tr>\n",
       "      <th>3</th>\n",
       "      <td>4</td>\n",
       "      <td>1</td>\n",
       "      <td>1</td>\n",
       "      <td>Futrelle, Mrs. Jacques Heath (Lily May Peel)</td>\n",
       "      <td>female</td>\n",
       "      <td>35.0</td>\n",
       "      <td>1</td>\n",
       "      <td>0</td>\n",
       "      <td>113803</td>\n",
       "      <td>53.1000</td>\n",
       "      <td>C123</td>\n",
       "      <td>S</td>\n",
       "    </tr>\n",
       "    <tr>\n",
       "      <th>4</th>\n",
       "      <td>5</td>\n",
       "      <td>0</td>\n",
       "      <td>3</td>\n",
       "      <td>Allen, Mr. William Henry</td>\n",
       "      <td>male</td>\n",
       "      <td>35.0</td>\n",
       "      <td>0</td>\n",
       "      <td>0</td>\n",
       "      <td>373450</td>\n",
       "      <td>8.0500</td>\n",
       "      <td>NaN</td>\n",
       "      <td>S</td>\n",
       "    </tr>\n",
       "  </tbody>\n",
       "</table>\n",
       "</div>"
      ],
      "text/plain": [
       "   PassengerId  Survived  Pclass  \\\n",
       "0            1         0       3   \n",
       "1            2         1       1   \n",
       "2            3         1       3   \n",
       "3            4         1       1   \n",
       "4            5         0       3   \n",
       "\n",
       "                                                Name     Sex   Age  SibSp  \\\n",
       "0                            Braund, Mr. Owen Harris    male  22.0      1   \n",
       "1  Cumings, Mrs. John Bradley (Florence Briggs Th...  female  38.0      1   \n",
       "2                             Heikkinen, Miss. Laina  female  26.0      0   \n",
       "3       Futrelle, Mrs. Jacques Heath (Lily May Peel)  female  35.0      1   \n",
       "4                           Allen, Mr. William Henry    male  35.0      0   \n",
       "\n",
       "   Parch            Ticket     Fare Cabin Embarked  \n",
       "0      0         A/5 21171   7.2500   NaN        S  \n",
       "1      0          PC 17599  71.2833   C85        C  \n",
       "2      0  STON/O2. 3101282   7.9250   NaN        S  \n",
       "3      0            113803  53.1000  C123        S  \n",
       "4      0            373450   8.0500   NaN        S  "
      ]
     },
     "execution_count": 319,
     "metadata": {},
     "output_type": "execute_result"
    }
   ],
   "source": [
    "# Read titanic data and store it as Pandas Dataframe\n",
    "titanic_df = pd.read_csv('titanic-data.csv')\n",
    "\n",
    "# Check what the dataset look like\n",
    "titanic_df.head()"
   ]
  },
  {
   "cell_type": "markdown",
   "metadata": {},
   "source": [
    "### Investigate and clean Titanic dataset\n",
    "\n",
    "+ **1. Missing values**"
   ]
  },
  {
   "cell_type": "code",
   "execution_count": 320,
   "metadata": {
    "collapsed": false,
    "scrolled": true
   },
   "outputs": [
    {
     "name": "stdout",
     "output_type": "stream",
     "text": [
      "<class 'pandas.core.frame.DataFrame'>\n",
      "RangeIndex: 891 entries, 0 to 890\n",
      "Data columns (total 12 columns):\n",
      "PassengerId    891 non-null int64\n",
      "Survived       891 non-null int64\n",
      "Pclass         891 non-null int64\n",
      "Name           891 non-null object\n",
      "Sex            891 non-null object\n",
      "Age            714 non-null float64\n",
      "SibSp          891 non-null int64\n",
      "Parch          891 non-null int64\n",
      "Ticket         891 non-null object\n",
      "Fare           891 non-null float64\n",
      "Cabin          204 non-null object\n",
      "Embarked       889 non-null object\n",
      "dtypes: float64(2), int64(5), object(5)\n",
      "memory usage: 83.6+ KB\n"
     ]
    }
   ],
   "source": [
    "# check the data type of each column\n",
    "titanic_df.info()"
   ]
  },
  {
   "cell_type": "code",
   "execution_count": 321,
   "metadata": {
    "collapsed": false
   },
   "outputs": [
    {
     "name": "stdout",
     "output_type": "stream",
     "text": [
      "False    714\n",
      "True     177\n",
      "Name: Age, dtype: int64\n",
      "True     687\n",
      "False    204\n",
      "Name: Cabin, dtype: int64\n"
     ]
    }
   ],
   "source": [
    "print titanic_df['Age'].isnull().value_counts()\n",
    "print titanic_df['Cabin'].isnull().value_counts()"
   ]
  },
  {
   "cell_type": "markdown",
   "metadata": {},
   "source": [
    "From the information above, we notice that there are two fields containing missing values, *Age* and *Cabin*.\n",
    "\n",
    "*Cabin*: Since around only 23% data of the *Cabin* column is non-null and we are not going to investigate deeper about this data, we then decide to drop this column. \n",
    "\n",
    "*Age*: We will have to use age information to identify different groups of passengers, substituting null values with meaningful values(eg. Median) is our way of dealing with missing values."
   ]
  },
  {
   "cell_type": "code",
   "execution_count": 323,
   "metadata": {
    "collapsed": false
   },
   "outputs": [
    {
     "data": {
      "text/html": [
       "<div>\n",
       "<table border=\"1\" class=\"dataframe\">\n",
       "  <thead>\n",
       "    <tr style=\"text-align: right;\">\n",
       "      <th></th>\n",
       "      <th>PassengerId</th>\n",
       "      <th>Survived</th>\n",
       "      <th>Pclass</th>\n",
       "      <th>Name</th>\n",
       "      <th>Sex</th>\n",
       "      <th>Age</th>\n",
       "      <th>SibSp</th>\n",
       "      <th>Parch</th>\n",
       "      <th>Ticket</th>\n",
       "      <th>Fare</th>\n",
       "      <th>Cabin</th>\n",
       "      <th>Embarked</th>\n",
       "      <th>Titles</th>\n",
       "    </tr>\n",
       "  </thead>\n",
       "  <tbody>\n",
       "    <tr>\n",
       "      <th>0</th>\n",
       "      <td>1</td>\n",
       "      <td>0</td>\n",
       "      <td>3</td>\n",
       "      <td>Braund, Mr. Owen Harris</td>\n",
       "      <td>male</td>\n",
       "      <td>22.0</td>\n",
       "      <td>1</td>\n",
       "      <td>0</td>\n",
       "      <td>A/5 21171</td>\n",
       "      <td>7.2500</td>\n",
       "      <td>NaN</td>\n",
       "      <td>S</td>\n",
       "      <td>Mr</td>\n",
       "    </tr>\n",
       "    <tr>\n",
       "      <th>1</th>\n",
       "      <td>2</td>\n",
       "      <td>1</td>\n",
       "      <td>1</td>\n",
       "      <td>Cumings, Mrs. John Bradley (Florence Briggs Th...</td>\n",
       "      <td>female</td>\n",
       "      <td>38.0</td>\n",
       "      <td>1</td>\n",
       "      <td>0</td>\n",
       "      <td>PC 17599</td>\n",
       "      <td>71.2833</td>\n",
       "      <td>C85</td>\n",
       "      <td>C</td>\n",
       "      <td>Mrs</td>\n",
       "    </tr>\n",
       "    <tr>\n",
       "      <th>2</th>\n",
       "      <td>3</td>\n",
       "      <td>1</td>\n",
       "      <td>3</td>\n",
       "      <td>Heikkinen, Miss. Laina</td>\n",
       "      <td>female</td>\n",
       "      <td>26.0</td>\n",
       "      <td>0</td>\n",
       "      <td>0</td>\n",
       "      <td>STON/O2. 3101282</td>\n",
       "      <td>7.9250</td>\n",
       "      <td>NaN</td>\n",
       "      <td>S</td>\n",
       "      <td>Miss</td>\n",
       "    </tr>\n",
       "    <tr>\n",
       "      <th>3</th>\n",
       "      <td>4</td>\n",
       "      <td>1</td>\n",
       "      <td>1</td>\n",
       "      <td>Futrelle, Mrs. Jacques Heath (Lily May Peel)</td>\n",
       "      <td>female</td>\n",
       "      <td>35.0</td>\n",
       "      <td>1</td>\n",
       "      <td>0</td>\n",
       "      <td>113803</td>\n",
       "      <td>53.1000</td>\n",
       "      <td>C123</td>\n",
       "      <td>S</td>\n",
       "      <td>Mrs</td>\n",
       "    </tr>\n",
       "    <tr>\n",
       "      <th>4</th>\n",
       "      <td>5</td>\n",
       "      <td>0</td>\n",
       "      <td>3</td>\n",
       "      <td>Allen, Mr. William Henry</td>\n",
       "      <td>male</td>\n",
       "      <td>35.0</td>\n",
       "      <td>0</td>\n",
       "      <td>0</td>\n",
       "      <td>373450</td>\n",
       "      <td>8.0500</td>\n",
       "      <td>NaN</td>\n",
       "      <td>S</td>\n",
       "      <td>Mr</td>\n",
       "    </tr>\n",
       "  </tbody>\n",
       "</table>\n",
       "</div>"
      ],
      "text/plain": [
       "   PassengerId  Survived  Pclass  \\\n",
       "0            1         0       3   \n",
       "1            2         1       1   \n",
       "2            3         1       3   \n",
       "3            4         1       1   \n",
       "4            5         0       3   \n",
       "\n",
       "                                                Name     Sex   Age  SibSp  \\\n",
       "0                            Braund, Mr. Owen Harris    male  22.0      1   \n",
       "1  Cumings, Mrs. John Bradley (Florence Briggs Th...  female  38.0      1   \n",
       "2                             Heikkinen, Miss. Laina  female  26.0      0   \n",
       "3       Futrelle, Mrs. Jacques Heath (Lily May Peel)  female  35.0      1   \n",
       "4                           Allen, Mr. William Henry    male  35.0      0   \n",
       "\n",
       "   Parch            Ticket     Fare Cabin Embarked Titles  \n",
       "0      0         A/5 21171   7.2500   NaN        S     Mr  \n",
       "1      0          PC 17599  71.2833   C85        C    Mrs  \n",
       "2      0  STON/O2. 3101282   7.9250   NaN        S   Miss  \n",
       "3      0            113803  53.1000  C123        S    Mrs  \n",
       "4      0            373450   8.0500   NaN        S     Mr  "
      ]
     },
     "execution_count": 323,
     "metadata": {},
     "output_type": "execute_result"
    }
   ],
   "source": [
    "# Get titles of passengers\n",
    "import re\n",
    "\n",
    "def extract_title(string_name):\n",
    "    pattern_condition = re.search('.*?,(.*?)\\.', string_name)\n",
    "    if bool(pattern_condition):\n",
    "        return pattern_condition.group(1).strip()\n",
    "    else:\n",
    "        return None\n",
    "\n",
    "# Append a new column named 'Titles' to the original titanic dataset\n",
    "titanic_df['Titles'] = titanic_df['Name'].map(extract_title)\n",
    "\n",
    "# Drop any row where both Age and Titles contain null values, if exists\n",
    "titanic_df = titanic_df[pd.notnull(titanic_df[['Age', 'Titles']].all(axis=1))]\n",
    "\n",
    "# View top rows of the edited new dataset\n",
    "titanic_df.head()"
   ]
  },
  {
   "cell_type": "code",
   "execution_count": 325,
   "metadata": {
    "collapsed": false
   },
   "outputs": [
    {
     "data": {
      "text/plain": [
       "891"
      ]
     },
     "execution_count": 325,
     "metadata": {},
     "output_type": "execute_result"
    }
   ],
   "source": [
    "# Fill null values in the 'Age' column with corresponding median values of each title group\n",
    "titanic_df['Age'].fillna(titanic_df.groupby('Titles')['Age'].transform('median'), inplace=True)\n",
    "\n",
    "# Check again for the count of non-null value in 'Age' column\n",
    "len(titanic_df['Age'].notnull())"
   ]
  },
  {
   "cell_type": "markdown",
   "metadata": {},
   "source": [
    "For now, we have filled null values in the 'Age' column with corresponding median values of each title group, so that we can do our best to mitigate the effect of biased age values."
   ]
  },
  {
   "cell_type": "markdown",
   "metadata": {},
   "source": [
    "+ **2. Drop unused columns**\n",
    "\n",
    "Next, we are going to drop columns which will not be used in our analysis here. \n",
    "\n",
    "Columns to be dropped are *Name*, *Ticket*, *Fare*, *Cabin*, *Embarked*."
   ]
  },
  {
   "cell_type": "code",
   "execution_count": 326,
   "metadata": {
    "collapsed": false
   },
   "outputs": [
    {
     "data": {
      "text/html": [
       "<div>\n",
       "<table border=\"1\" class=\"dataframe\">\n",
       "  <thead>\n",
       "    <tr style=\"text-align: right;\">\n",
       "      <th></th>\n",
       "      <th>PassengerId</th>\n",
       "      <th>Survived</th>\n",
       "      <th>Pclass</th>\n",
       "      <th>Sex</th>\n",
       "      <th>Age</th>\n",
       "      <th>SibSp</th>\n",
       "      <th>Parch</th>\n",
       "      <th>Titles</th>\n",
       "    </tr>\n",
       "  </thead>\n",
       "  <tbody>\n",
       "    <tr>\n",
       "      <th>0</th>\n",
       "      <td>1</td>\n",
       "      <td>0</td>\n",
       "      <td>3</td>\n",
       "      <td>male</td>\n",
       "      <td>22.0</td>\n",
       "      <td>1</td>\n",
       "      <td>0</td>\n",
       "      <td>Mr</td>\n",
       "    </tr>\n",
       "    <tr>\n",
       "      <th>1</th>\n",
       "      <td>2</td>\n",
       "      <td>1</td>\n",
       "      <td>1</td>\n",
       "      <td>female</td>\n",
       "      <td>38.0</td>\n",
       "      <td>1</td>\n",
       "      <td>0</td>\n",
       "      <td>Mrs</td>\n",
       "    </tr>\n",
       "    <tr>\n",
       "      <th>2</th>\n",
       "      <td>3</td>\n",
       "      <td>1</td>\n",
       "      <td>3</td>\n",
       "      <td>female</td>\n",
       "      <td>26.0</td>\n",
       "      <td>0</td>\n",
       "      <td>0</td>\n",
       "      <td>Miss</td>\n",
       "    </tr>\n",
       "    <tr>\n",
       "      <th>3</th>\n",
       "      <td>4</td>\n",
       "      <td>1</td>\n",
       "      <td>1</td>\n",
       "      <td>female</td>\n",
       "      <td>35.0</td>\n",
       "      <td>1</td>\n",
       "      <td>0</td>\n",
       "      <td>Mrs</td>\n",
       "    </tr>\n",
       "    <tr>\n",
       "      <th>4</th>\n",
       "      <td>5</td>\n",
       "      <td>0</td>\n",
       "      <td>3</td>\n",
       "      <td>male</td>\n",
       "      <td>35.0</td>\n",
       "      <td>0</td>\n",
       "      <td>0</td>\n",
       "      <td>Mr</td>\n",
       "    </tr>\n",
       "  </tbody>\n",
       "</table>\n",
       "</div>"
      ],
      "text/plain": [
       "   PassengerId  Survived  Pclass     Sex   Age  SibSp  Parch Titles\n",
       "0            1         0       3    male  22.0      1      0     Mr\n",
       "1            2         1       1  female  38.0      1      0    Mrs\n",
       "2            3         1       3  female  26.0      0      0   Miss\n",
       "3            4         1       1  female  35.0      1      0    Mrs\n",
       "4            5         0       3    male  35.0      0      0     Mr"
      ]
     },
     "execution_count": 326,
     "metadata": {},
     "output_type": "execute_result"
    }
   ],
   "source": [
    "# Drop five columns\n",
    "titanic_df = titanic_df.drop(['Name', 'Ticket', 'Fare', 'Cabin', 'Embarked'], axis=1)\n",
    "\n",
    "titanic_df.head()"
   ]
  },
  {
   "cell_type": "markdown",
   "metadata": {},
   "source": [
    "+ **3. Add new column**"
   ]
  },
  {
   "cell_type": "code",
   "execution_count": 327,
   "metadata": {
    "collapsed": false
   },
   "outputs": [
    {
     "data": {
      "text/html": [
       "<div>\n",
       "<table border=\"1\" class=\"dataframe\">\n",
       "  <thead>\n",
       "    <tr style=\"text-align: right;\">\n",
       "      <th></th>\n",
       "      <th>PassengerId</th>\n",
       "      <th>Survived</th>\n",
       "      <th>Pclass</th>\n",
       "      <th>Sex</th>\n",
       "      <th>Age</th>\n",
       "      <th>SibSp</th>\n",
       "      <th>Parch</th>\n",
       "      <th>Titles</th>\n",
       "      <th>FamilySize</th>\n",
       "    </tr>\n",
       "  </thead>\n",
       "  <tbody>\n",
       "    <tr>\n",
       "      <th>0</th>\n",
       "      <td>1</td>\n",
       "      <td>0</td>\n",
       "      <td>3</td>\n",
       "      <td>male</td>\n",
       "      <td>22.0</td>\n",
       "      <td>1</td>\n",
       "      <td>0</td>\n",
       "      <td>Mr</td>\n",
       "      <td>1</td>\n",
       "    </tr>\n",
       "    <tr>\n",
       "      <th>1</th>\n",
       "      <td>2</td>\n",
       "      <td>1</td>\n",
       "      <td>1</td>\n",
       "      <td>female</td>\n",
       "      <td>38.0</td>\n",
       "      <td>1</td>\n",
       "      <td>0</td>\n",
       "      <td>Mrs</td>\n",
       "      <td>1</td>\n",
       "    </tr>\n",
       "    <tr>\n",
       "      <th>2</th>\n",
       "      <td>3</td>\n",
       "      <td>1</td>\n",
       "      <td>3</td>\n",
       "      <td>female</td>\n",
       "      <td>26.0</td>\n",
       "      <td>0</td>\n",
       "      <td>0</td>\n",
       "      <td>Miss</td>\n",
       "      <td>0</td>\n",
       "    </tr>\n",
       "    <tr>\n",
       "      <th>3</th>\n",
       "      <td>4</td>\n",
       "      <td>1</td>\n",
       "      <td>1</td>\n",
       "      <td>female</td>\n",
       "      <td>35.0</td>\n",
       "      <td>1</td>\n",
       "      <td>0</td>\n",
       "      <td>Mrs</td>\n",
       "      <td>1</td>\n",
       "    </tr>\n",
       "    <tr>\n",
       "      <th>4</th>\n",
       "      <td>5</td>\n",
       "      <td>0</td>\n",
       "      <td>3</td>\n",
       "      <td>male</td>\n",
       "      <td>35.0</td>\n",
       "      <td>0</td>\n",
       "      <td>0</td>\n",
       "      <td>Mr</td>\n",
       "      <td>0</td>\n",
       "    </tr>\n",
       "  </tbody>\n",
       "</table>\n",
       "</div>"
      ],
      "text/plain": [
       "   PassengerId  Survived  Pclass     Sex   Age  SibSp  Parch Titles  \\\n",
       "0            1         0       3    male  22.0      1      0     Mr   \n",
       "1            2         1       1  female  38.0      1      0    Mrs   \n",
       "2            3         1       3  female  26.0      0      0   Miss   \n",
       "3            4         1       1  female  35.0      1      0    Mrs   \n",
       "4            5         0       3    male  35.0      0      0     Mr   \n",
       "\n",
       "   FamilySize  \n",
       "0           1  \n",
       "1           1  \n",
       "2           0  \n",
       "3           1  \n",
       "4           0  "
      ]
     },
     "execution_count": 327,
     "metadata": {},
     "output_type": "execute_result"
    }
   ],
   "source": [
    "# Family size\n",
    "\n",
    "# Add a column called family size which is the sum of SibSp and Parch\n",
    "titanic_df['FamilySize'] = titanic_df['SibSp'] + titanic_df['Parch']\n",
    "titanic_df.head()"
   ]
  },
  {
   "cell_type": "markdown",
   "metadata": {
    "collapsed": true
   },
   "source": [
    "# IV. Data Exploration"
   ]
  },
  {
   "cell_type": "markdown",
   "metadata": {},
   "source": [
    "### 1. According to the age distribution of passengers in this dataset, which age groups have a higher survival rate?"
   ]
  },
  {
   "cell_type": "code",
   "execution_count": 328,
   "metadata": {
    "collapsed": false
   },
   "outputs": [
    {
     "name": "stdout",
     "output_type": "stream",
     "text": [
      "The ages of passengers range from  0.42 to  80.0\n"
     ]
    }
   ],
   "source": [
    "# Identify the min and max age \n",
    "min_age = titanic_df['Age'].min()\n",
    "max_age = titanic_df['Age'].max()\n",
    "\n",
    "print 'The ages of passengers range from ',min_age, 'to ', max_age "
   ]
  },
  {
   "cell_type": "code",
   "execution_count": 330,
   "metadata": {
    "collapsed": false
   },
   "outputs": [],
   "source": [
    "# Split Titanic dataset into two groups: survived and dead\n",
    "survived_df = titanic_df[titanic_df['Survived']==1]\n",
    "dead_df = titanic_df[titanic_df['Survived']==0]"
   ]
  },
  {
   "cell_type": "code",
   "execution_count": 332,
   "metadata": {
    "collapsed": false
   },
   "outputs": [
    {
     "data": {
      "image/png": "[encoded data removed]",
      "text/plain": [
       "<matplotlib.figure.Figure at 0x1239b1e50>"
      ]
     },
     "metadata": {},
     "output_type": "display_data"
    }
   ],
   "source": [
    "# Create a histogram to show survivability distribution by age\n",
    "\n",
    "plt.hist([survived_df['Age'],dead_df['Age']],\n",
    "          bins=8, range=(0,80), stacked=True, color = ['g','r'], alpha=0.6, label=['survived', 'dead'])\n",
    "plt.title('Survivability distribution by age', fontsize=18)\n",
    "plt.xlabel('age', fontsize=13)\n",
    "plt.ylabel('number of passengers', fontsize=13)\n",
    "plt.legend(fontsize=15)\n",
    "plt.gcf().set_size_inches(13.5, 7.5)\n",
    "plt.show()"
   ]
  },
  {
   "cell_type": "markdown",
   "metadata": {},
   "source": [
    "According the histogram, we can see that the majority of passengers on board are between 20 to 40 years old, while people older than 60 account for only a small proportion of the total passengers.\n",
    "\n",
    "Each bar of the histogram is divided into two parts: red and green. The red part represents passengers of that age range who didn't survived in the tragedy, and the green part represents passengers who survived. Apparently chidren under 10 has the highest survival rate. So next we will take a deeper look at survivability distribution by calculating reliable statistics (survival rates)."
   ]
  },
  {
   "cell_type": "code",
   "execution_count": 335,
   "metadata": {
    "collapsed": false
   },
   "outputs": [
    {
     "data": {
      "text/plain": [
       "[0.59, 0.38, 0.31, 0.48, 0.38, 0.4, 0.24, 0.2]"
      ]
     },
     "execution_count": 335,
     "metadata": {},
     "output_type": "execute_result"
    }
   ],
   "source": [
    "# Calculate percentages of the survived vesus dead for each age group\n",
    "\n",
    "from decimal import Decimal\n",
    "\n",
    "def subset_dataset_by_age(lower_bound, upper_bound):\n",
    "    age = titanic_df['Survived'][(titanic_df['Age']>lower_bound) & (titanic_df['Age']<=upper_bound)]\n",
    "    return age.values.astype(float)\n",
    "\n",
    "survival_rate_by_age = []\n",
    "for i in xrange(0,80,10):\n",
    "    age_range = subset_dataset_by_age(i, i+10)\n",
    "    survival_rate_by_age.append(round((sum(age_range)/len(age_range)), 2))\n",
    "\n",
    "survival_rate_by_age"
   ]
  },
  {
   "cell_type": "code",
   "execution_count": 337,
   "metadata": {
    "collapsed": false,
    "scrolled": true
   },
   "outputs": [
    {
     "data": {
      "text/plain": [
       "<matplotlib.text.Text at 0x11dd2e350>"
      ]
     },
     "execution_count": 337,
     "metadata": {},
     "output_type": "execute_result"
    },
    {
     "data": {
      "image/png": "[encoded data removed]",
      "text/plain": [
       "<matplotlib.figure.Figure at 0x11dd58110>"
      ]
     },
     "metadata": {},
     "output_type": "display_data"
    }
   ],
   "source": [
    "# Create a var plot to visually display the survival rate of each age group\n",
    "\n",
    "fig, ax = plt.subplots()\n",
    "ax.bar(range(0,80,10),survival_rate_by_age, width=9)\n",
    "ax.set_title('Survival Rates', fontsize=18)\n",
    "ax.set_xlabel('age groups', fontsize=13)\n",
    "ax.set_ylabel('survival rate', fontsize=13)"
   ]
  },
  {
   "cell_type": "markdown",
   "metadata": {},
   "source": [
    "From the plot above, we can clearly see that children between 0 to 10 years old have the highest survival rate (59%). The second-highest group is people of ages between 30 to 40 (48%). The elder people have the lowest chance of survival."
   ]
  },
  {
   "cell_type": "markdown",
   "metadata": {},
   "source": [
    "### 2. What is the relationship between family size (total number of siblings, spouse, parents, children) and the corresponding survival rate?"
   ]
  },
  {
   "cell_type": "code",
   "execution_count": 343,
   "metadata": {
    "collapsed": false
   },
   "outputs": [
    {
     "data": {
      "text/html": [
       "<div>\n",
       "<table border=\"1\" class=\"dataframe\">\n",
       "  <thead>\n",
       "    <tr style=\"text-align: right;\">\n",
       "      <th></th>\n",
       "      <th>Survived</th>\n",
       "      <th>FamilySize</th>\n",
       "      <th>Count</th>\n",
       "    </tr>\n",
       "  </thead>\n",
       "  <tbody>\n",
       "    <tr>\n",
       "      <th>0</th>\n",
       "      <td>0</td>\n",
       "      <td>0</td>\n",
       "      <td>374</td>\n",
       "    </tr>\n",
       "    <tr>\n",
       "      <th>1</th>\n",
       "      <td>0</td>\n",
       "      <td>1</td>\n",
       "      <td>72</td>\n",
       "    </tr>\n",
       "    <tr>\n",
       "      <th>2</th>\n",
       "      <td>0</td>\n",
       "      <td>2</td>\n",
       "      <td>43</td>\n",
       "    </tr>\n",
       "    <tr>\n",
       "      <th>3</th>\n",
       "      <td>0</td>\n",
       "      <td>3</td>\n",
       "      <td>8</td>\n",
       "    </tr>\n",
       "    <tr>\n",
       "      <th>4</th>\n",
       "      <td>0</td>\n",
       "      <td>4</td>\n",
       "      <td>12</td>\n",
       "    </tr>\n",
       "  </tbody>\n",
       "</table>\n",
       "</div>"
      ],
      "text/plain": [
       "   Survived  FamilySize  Count\n",
       "0         0           0    374\n",
       "1         0           1     72\n",
       "2         0           2     43\n",
       "3         0           3      8\n",
       "4         0           4     12"
      ]
     },
     "execution_count": 343,
     "metadata": {},
     "output_type": "execute_result"
    }
   ],
   "source": [
    "# Group Titanic dataset by 'Survived' and 'FamilySize'   \n",
    "survived_by_familysize = titanic_df.groupby(['Survived', 'FamilySize']).size().reset_index(name='Count')\n",
    "survived_by_familysize.head()"
   ]
  },
  {
   "cell_type": "code",
   "execution_count": 344,
   "metadata": {
    "collapsed": false
   },
   "outputs": [],
   "source": [
    "def subset_familysize_df(survived, field):\n",
    "    return survived_by_familysize[survived_by_familysize['Survived']==survived][field]\n",
    "\n",
    "dead_familysize = subset_familysize_df(0, 'FamilySize')\n",
    "dead_familysize_count = subset_familysize_df(0, 'Count')\n",
    "\n",
    "survived_familysize = subset_familysize_df(1, 'FamilySize')\n",
    "survived_familysize_count = subset_familysize_df(1, 'Count')"
   ]
  },
  {
   "cell_type": "code",
   "execution_count": 345,
   "metadata": {
    "collapsed": false
   },
   "outputs": [
    {
     "data": {
      "image/png": "[encoded data removed]",
      "text/plain": [
       "<matplotlib.figure.Figure at 0x12399c650>"
      ]
     },
     "metadata": {},
     "output_type": "display_data"
    }
   ],
   "source": [
    "fig, ax = plt.subplots(figsize=(12,5))\n",
    "plt.plot(dead_familysize, dead_familysize_count, 'ro', markersize=10)\n",
    "plt.plot(survived_familysize, survived_familysize_count, 'g^', markersize=10)\n",
    "plt.xlim(-0.5, 10.5)\n",
    "plt.legend(['Dead', 'Survived'], loc='best', fontsize=13)\n",
    "\n",
    "ax.set_ylabel('Count')\n",
    "ax.set_xlabel('FamilySize')\n",
    "ax.set_title('Survival distribution by family size', fontsize=16)\n",
    "ax.set_xticks([p for p in xrange(max(dead_familysize))])\n",
    "\n",
    "plt.show()"
   ]
  },
  {
   "cell_type": "markdown",
   "metadata": {},
   "source": [
    "Surprsingly, we find that only passengers having family size of 1 to 3 who survived outnumbered those who did not. For passengers who's alone aboard，most of them didn't survive. The same situation applies to passengers who have family size no less than 4. \n",
    "\n",
    "So passengers with a relatively small family size (1, 2, 3) are more likely to survive."
   ]
  },
  {
   "cell_type": "markdown",
   "metadata": {},
   "source": [
    "### 3. Do groups of passengers share similar survival rates, if we divide the total passengers on board into groups based on sex and class?"
   ]
  },
  {
   "cell_type": "code",
   "execution_count": 346,
   "metadata": {
    "collapsed": false
   },
   "outputs": [
    {
     "name": "stdout",
     "output_type": "stream",
     "text": [
      "   Pclass     Sex  Survived  Count\n",
      "0       1  female         0      3\n",
      "1       1  female         1     91\n",
      "4       2  female         0      6\n",
      "5       2  female         1     70\n",
      "8       3  female         0     72\n",
      "9       3  female         1     72\n",
      "    Pclass   Sex  Survived  Count\n",
      "2        1  male         0     77\n",
      "3        1  male         1     45\n",
      "6        2  male         0     91\n",
      "7        2  male         1     17\n",
      "10       3  male         0    300\n",
      "11       3  male         1     47\n"
     ]
    }
   ],
   "source": [
    "# Group data by Pclass, Sex and Survived\n",
    "survived_by_class_sex_survived = titanic_df.groupby(['Pclass', 'Sex', 'Survived']).size().reset_index(name=\"Count\")\n",
    "\n",
    "# Split the grouped data by sex\n",
    "survived_female = survived_by_class_sex_survived[survived_by_class_sex_survived['Sex']=='female']\n",
    "survived_male = survived_by_class_sex_survived[survived_by_class_sex_survived['Sex']=='male']\n",
    "print survived_female\n",
    "print survived_male"
   ]
  },
  {
   "cell_type": "code",
   "execution_count": 347,
   "metadata": {
    "collapsed": false
   },
   "outputs": [
    {
     "data": {
      "text/plain": [
       "(-0.2, 2.8)"
      ]
     },
     "execution_count": 347,
     "metadata": {},
     "output_type": "execute_result"
    },
    {
     "data": {
      "image/png": "[encoded data removed]",
      "text/plain": [
       "<matplotlib.figure.Figure at 0x1203cc590>"
      ]
     },
     "metadata": {},
     "output_type": "display_data"
    }
   ],
   "source": [
    "# Create bar plots to show the survivability distribution among passenger classes by sex\n",
    "\n",
    "# Set position, bar width, and plot grid\n",
    "pos = list(range(len(titanic_df['Pclass'].unique())))\n",
    "width = 0.2\n",
    "plot_rows = 1\n",
    "plot_cols = 2\n",
    "\n",
    "# Plotting the bars\n",
    "fig = plt.figure(figsize=(15, 6))\n",
    "\n",
    "ax1 = plt.subplot2grid((plot_rows,plot_cols), (0,0), rowspan=1, colspan=1)\n",
    "plt.bar(pos, survived_female[survived_female['Survived']==0]['Count'], width, alpha=0.5, color='#EE3224',\n",
    "        label=survived_female[survived_female['Survived']==0]['Pclass'])\n",
    "plt.bar([p+width for p in pos], survived_female[survived_female['Survived']==1]['Count'], width, alpha=0.5, color='g',\n",
    "        label=survived_female[survived_female['Survived']==1]['Pclass'])\n",
    "plt.legend(['Dead', 'Survived'], loc='best', fontsize='small')\n",
    "\n",
    "ax1.set_ylabel('Count')\n",
    "ax1.set_title('Female survival comparison by class', fontsize=16)\n",
    "ax1.set_xticks([p + width for p in pos])\n",
    "ax1.set_xticklabels(['1st_class', '2nd_class', '3rd_class'])\n",
    "plt.xlim(min(pos)-width, max(pos)+width*4)\n",
    "\n",
    "ax2 = plt.subplot2grid((plot_rows,plot_cols), (0,1), rowspan=1, colspan=1)\n",
    "plt.bar(pos, survived_male[survived_male['Survived']==0]['Count'], width, alpha=0.5, color='#EE3224',\n",
    "        label=survived_male[survived_male['Survived']==0]['Pclass'])\n",
    "plt.bar([p+width for p in pos], survived_male[survived_male['Survived']==1]['Count'], width, alpha=0.5, color='g',\n",
    "        label=survived_male[survived_male['Survived']==1]['Pclass'])\n",
    "plt.legend(['Dead', 'Survived'], loc='best', fontsize='small')\n",
    "\n",
    "ax2.set_ylabel('Count')\n",
    "ax2.set_title('Male survival comparison by class', fontsize=16)\n",
    "ax2.set_xticks([p + width for p in pos])\n",
    "ax2.set_xticklabels(['1st_class', '2nd_class', '3rd_class'])\n",
    "plt.xlim(min(pos)-width, max(pos)+width*4)"
   ]
  },
  {
   "cell_type": "markdown",
   "metadata": {},
   "source": [
    "It's quite obvious and clear that female passengers have a higher chance of survival, especially those who were in the first and second class. However, there are always more male passengers who didn't survive than those who did, regardless of which class they were in. From this point, we can briefly conclude that female were given the priority to board on lifeboats. But we are more interested in addressing this issue further using inference statistics."
   ]
  },
  {
   "cell_type": "markdown",
   "metadata": {},
   "source": [
    "### Chi-Square Goodness of Fit Test"
   ]
  },
  {
   "cell_type": "markdown",
   "metadata": {},
   "source": [
    "To answer this question, we decide to conduct **chi-square goodness of fit test**, which is a common statistical test for categorical variables and is used to determine whether sample data are consistent with a hypothesized distribution.\n",
    "\n",
    "The categorical variables are *class* and *sex*.\n",
    "\n",
    "##### Hypotheses:\n",
    "\n",
    "$H_0$: The survivors in each group (1st class female, 1st class male, 2nd class female, 2nd class male, 3rd class female, 3rd class male) are a simple random sample from the population of passengers on Titanic. The observed counts of survivors from various groups follow the same sex and class distribution in the population.\n",
    "\n",
    "$H_A$: The survivors in each group (1st class female, 1st class male, 2nd class female, 2nd class male, 3rd class female, 3rd class male) are **not** a simple random sample from the population of passengers on Titanic. The observed counts of survivors from various groups **DO NOT** follow the same sex and class distribution in the population.\n",
    "\n",
    "$H_0$ refers to Null Hypothesis, and the small zero stands for *null*.  $H_A$ refers to Alternative Hypothesis, and the small `A` stands for *Alternative*.\n"
   ]
  },
  {
   "cell_type": "markdown",
   "metadata": {},
   "source": [
    "##### Analyze Sample Data:"
   ]
  },
  {
   "cell_type": "code",
   "execution_count": 349,
   "metadata": {
    "collapsed": false
   },
   "outputs": [],
   "source": [
    "# First, we calculate the expected survival rate within each group based on the Titanic dataset.\n",
    "survived_by_class_sex = titanic_df.groupby(['Pclass', 'Sex']).size().reset_index(name=\"Count\")\n",
    "total_passengers = sum(survived_by_class_sex['Count'])\n",
    "\n",
    "# Store the results in a new column\n",
    "survived_by_class_sex['Percent_of_population'] = survived_by_class_sex['Count']/total_passengers"
   ]
  },
  {
   "cell_type": "code",
   "execution_count": 350,
   "metadata": {
    "collapsed": false
   },
   "outputs": [],
   "source": [
    "# Calculate expected survivors\n",
    "total_survivors = sum(titanic_df['Survived'])\n",
    "survived_by_class_sex['Expected_Survivors'] = (survived_by_class_sex['Percent_of_population'] * total_survivors).round(0)\n",
    "\n",
    "# Get observed survivors\n",
    "survived_by_class_sex['Observed_Survivors'] = survived_by_class_sex_survived[survived_by_class_sex_survived['Survived']==1]['Count'].values"
   ]
  },
  {
   "cell_type": "code",
   "execution_count": 352,
   "metadata": {
    "collapsed": false
   },
   "outputs": [
    {
     "data": {
      "text/html": [
       "<div>\n",
       "<table border=\"1\" class=\"dataframe\">\n",
       "  <thead>\n",
       "    <tr style=\"text-align: right;\">\n",
       "      <th></th>\n",
       "      <th>Pclass</th>\n",
       "      <th>Sex</th>\n",
       "      <th>Count</th>\n",
       "      <th>Percent_of_population</th>\n",
       "      <th>Expected_Survivors</th>\n",
       "      <th>Observed_Survivors</th>\n",
       "    </tr>\n",
       "  </thead>\n",
       "  <tbody>\n",
       "    <tr>\n",
       "      <th>0</th>\n",
       "      <td>1</td>\n",
       "      <td>female</td>\n",
       "      <td>94</td>\n",
       "      <td>0.105499</td>\n",
       "      <td>36.0</td>\n",
       "      <td>91</td>\n",
       "    </tr>\n",
       "    <tr>\n",
       "      <th>1</th>\n",
       "      <td>1</td>\n",
       "      <td>male</td>\n",
       "      <td>122</td>\n",
       "      <td>0.136925</td>\n",
       "      <td>47.0</td>\n",
       "      <td>45</td>\n",
       "    </tr>\n",
       "    <tr>\n",
       "      <th>2</th>\n",
       "      <td>2</td>\n",
       "      <td>female</td>\n",
       "      <td>76</td>\n",
       "      <td>0.085297</td>\n",
       "      <td>29.0</td>\n",
       "      <td>70</td>\n",
       "    </tr>\n",
       "    <tr>\n",
       "      <th>3</th>\n",
       "      <td>2</td>\n",
       "      <td>male</td>\n",
       "      <td>108</td>\n",
       "      <td>0.121212</td>\n",
       "      <td>41.0</td>\n",
       "      <td>17</td>\n",
       "    </tr>\n",
       "    <tr>\n",
       "      <th>4</th>\n",
       "      <td>3</td>\n",
       "      <td>female</td>\n",
       "      <td>144</td>\n",
       "      <td>0.161616</td>\n",
       "      <td>55.0</td>\n",
       "      <td>72</td>\n",
       "    </tr>\n",
       "    <tr>\n",
       "      <th>5</th>\n",
       "      <td>3</td>\n",
       "      <td>male</td>\n",
       "      <td>347</td>\n",
       "      <td>0.389450</td>\n",
       "      <td>133.0</td>\n",
       "      <td>47</td>\n",
       "    </tr>\n",
       "  </tbody>\n",
       "</table>\n",
       "</div>"
      ],
      "text/plain": [
       "   Pclass     Sex  Count  Percent_of_population  Expected_Survivors  \\\n",
       "0       1  female     94               0.105499                36.0   \n",
       "1       1    male    122               0.136925                47.0   \n",
       "2       2  female     76               0.085297                29.0   \n",
       "3       2    male    108               0.121212                41.0   \n",
       "4       3  female    144               0.161616                55.0   \n",
       "5       3    male    347               0.389450               133.0   \n",
       "\n",
       "   Observed_Survivors  \n",
       "0                  91  \n",
       "1                  45  \n",
       "2                  70  \n",
       "3                  17  \n",
       "4                  72  \n",
       "5                  47  "
      ]
     },
     "execution_count": 352,
     "metadata": {},
     "output_type": "execute_result"
    }
   ],
   "source": [
    "# Data ready for the test\n",
    "survived_by_class_sex"
   ]
  },
  {
   "cell_type": "markdown",
   "metadata": {},
   "source": [
    "##### Check Conditions:\n",
    "\n",
    "+ Independence: Sampled data are independent.\n",
    "\n",
    "+ Sample Size: Each particular scenario (i.e. cell) has at least five expected cases.\n",
    "\n",
    "##### Goodness of Fit Test:\n",
    "\n",
    "+ chi-square statistic: when dealing with counts and investigating how far the observed counts are from the expected counts, we use a new test statistic called\n",
    "the chi-square ( ${\\chi}^2$ ) statistic.\n",
    "\n",
    "+ Formula:\n",
    "$${\\chi}^2 = \\sum_{i=1}^{k}\\frac{(O - E)^2}{E}$$\n",
    "\n",
    "$O$: Observed   \n",
    "$E$: Expected   \n",
    "$k$: number of cells/categories\n",
    "\n",
    "##### Chi-Square Distribution:\n",
    "\n",
    "+ chi-square distribution has just one parameter, **degree of freedom**. It influences the shape, center and spread of chi-square distribution.\n",
    "\n",
    "$$df = k - 1$$\n",
    "\n",
    "+ Plot:\n"
   ]
  },
  {
   "cell_type": "code",
   "execution_count": 313,
   "metadata": {
    "collapsed": false
   },
   "outputs": [
    {
     "data": {
      "image/png": "[encoded data removed]",
      "text/plain": [
       "<matplotlib.figure.Figure at 0x12361f290>"
      ]
     },
     "metadata": {},
     "output_type": "display_data"
    }
   ],
   "source": [
    "import scipy.stats as stats\n",
    "\n",
    "# Define the distribution parameters to be plotted\n",
    "k_values = [2, 5, 9]\n",
    "linestyles = ['-', '--', '-.']\n",
    "mu = 0\n",
    "x = np.linspace(-1, 20, 1000)\n",
    "\n",
    "# plot the distributions\n",
    "fig, ax = plt.subplots(figsize=(12, 6))\n",
    "fig.subplots_adjust(bottom=0.12)\n",
    "\n",
    "for k, ls in zip(k_values, linestyles):\n",
    "    dist = stats.chi2(k, mu)\n",
    "    plt.plot(x, dist.pdf(x), ls=ls, c='black', label=r'$k=%i$' % k)\n",
    "\n",
    "plt.xlim(0, 20)\n",
    "plt.ylim(0, 0.5)\n",
    "\n",
    "plt.ylabel(r'probability')\n",
    "plt.title(r'$\\chi^2\\ Distribution$')\n",
    "\n",
    "plt.legend()\n",
    "plt.show()"
   ]
  },
  {
   "cell_type": "markdown",
   "metadata": {},
   "source": [
    "In this case, our degree of freedom is 5.    "
   ]
  },
  {
   "cell_type": "markdown",
   "metadata": {},
   "source": [
    "##### Interpret Results"
   ]
  },
  {
   "cell_type": "markdown",
   "metadata": {},
   "source": [
    "*Significant Level*: We set our significant level at 0.05 in this case.\n",
    "\n",
    "First, we calculate the critical value using SciPy."
   ]
  },
  {
   "cell_type": "code",
   "execution_count": 314,
   "metadata": {
    "collapsed": false
   },
   "outputs": [
    {
     "name": "stdout",
     "output_type": "stream",
     "text": [
      "Critical value\n",
      "11.0704976935\n"
     ]
    }
   ],
   "source": [
    "# 95% confidence level; Df = number of variable categories - 1\n",
    "crit_value = stats.chi2.ppf(q = 0.95, df = 5)   \n",
    "print(\"Critical value\")\n",
    "print(crit_value)"
   ]
  },
  {
   "cell_type": "markdown",
   "metadata": {},
   "source": [
    "Next, we can carry out chi-square GoF test automatically using SciPy."
   ]
  },
  {
   "cell_type": "code",
   "execution_count": 312,
   "metadata": {
    "collapsed": false
   },
   "outputs": [
    {
     "data": {
      "text/plain": [
       "Power_divergenceResult(statistic=216.99074990087712, pvalue=6.5543307430540403e-45)"
      ]
     },
     "execution_count": 312,
     "metadata": {},
     "output_type": "execute_result"
    }
   ],
   "source": [
    "stats.chisquare(f_obs= survived_by_class_sex['Observed_Survivors'],   \n",
    "                f_exp= survived_by_class_sex['Expected_Survivors'])"
   ]
  },
  {
   "cell_type": "markdown",
   "metadata": {},
   "source": [
    "P-value for a chi-square test is defined as the tail area above the calculated test statistic, because the test statistic is always positive, a higher test statistic means a higher deviation from the null hypothesis.     \n",
    "\n",
    "The test statistic ($\\chi^2$) is 216.99, a lot larger than the critical value of 11. Thus P-value is extremely close to zero.\n",
    "\n",
    "$$P(\\chi^2 > 216.99) \\approx 0$$\n",
    "\n",
    "**Conclusion: ** Since P-value < 0.05 (significant level), we reject the null hypothesis, and conclude that some factor other than chance is operating for the deviation to be so great. There is little chance that this deviation is due to chance alone. Therefore, other factors must be involved.\n",
    "\n",
    "Because the observed survial distribution didn't follow the expected distribution based on the actual passengers' distritbuion by class and sex, we are able to get a general sense of how the passengers and crew on Titanic abided by the standard of \"Women and children first\". Taking just women into consideration, we know that they were given the priority to board lifeboats, especially women in the first and second class. "
   ]
  },
  {
   "cell_type": "markdown",
   "metadata": {},
   "source": [
    "# V. References\n",
    "\n",
    "[Kaggle Titanic Dataset Description](https://www.kaggle.com/c/titanic/data)\n",
    "\n",
    "[Roy's Titanic Notebook](https://www.kaggle.com/gaohong/titanic/roy-s-titanic-notebook)\n",
    "\n",
    "[Exploring Titanic Dataset](https://www.kaggle.com/mrisdal/titanic/exploring-survival-on-the-titanic)\n",
    "\n",
    "[Python for Data Analysis: Chi-Square Test](http://hamelg.blogspot.com/2015/11/python-for-data-analysis-part-25-chi.html)\n",
    "\n",
    "[Chi-Square Distribution Plot](http://www.astroml.org/book_figures/chapter3/fig_chi2_distribution.html)\n",
    "\n",
    "[SciPy Stats](https://docs.scipy.org/doc/scipy-0.18.1/reference/generated/scipy.stats.chisquare.html)\n",
    "\n",
    "[Matplotlib Guidance](http://matplotlib.org)\n"
   ]
  }
 ],
 "metadata": {
  "anaconda-cloud": {},
  "kernelspec": {
   "display_name": "Python [Root]",
   "language": "python",
   "name": "Python [Root]"
  },
  "language_info": {
   "codemirror_mode": {
    "name": "ipython",
    "version": 2
   },
   "file_extension": ".py",
   "mimetype": "text/x-python",
   "name": "python",
   "nbconvert_exporter": "python",
   "pygments_lexer": "ipython2",
   "version": "2.7.12"
  }
 },
 "nbformat": 4,
 "nbformat_minor": 0
}
